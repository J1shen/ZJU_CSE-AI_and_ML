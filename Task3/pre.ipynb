{
 "cells": [
  {
   "cell_type": "code",
   "execution_count": 1,
   "metadata": {},
   "outputs": [],
   "source": [
    "import warnings\n",
    "# 忽视警告\n",
    "warnings.filterwarnings('ignore')\n",
    "\n",
    "import cv2\n",
    "from PIL import Image\n",
    "import numpy as np\n",
    "import copy\n",
    "import matplotlib.pyplot as plt\n",
    "import torch\n",
    "import torch.nn as nn\n",
    "import torchvision.transforms as T\n",
    "from torch.utils.data import DataLoader\n",
    "from model import Backbone\n",
    "\n",
    "# -------------------------- 请加载您最满意的模型 ---------------------------\n",
    "# 加载模型(请加载你认为的最佳模型)\n",
    "# 加载模型,加载请注意 model_path 是相对路径, 与当前文件同级。\n",
    "# 如果你的模型是在 results 文件夹下的 star.h5 模型，则 model_path = 'results/star.h5'\n",
    "model_path = 'res50.pth'\n",
    "\n",
    "# 加载模型，如果采用keras框架训练模型，则 model=load_model(model_path)\n",
    "class ArcfaceNet(nn.Module):\n",
    "    def __init__(self, classes=10):\n",
    "        super(ArcfaceNet, self).__init__()\n",
    "        self.Arcnet = Backbone(num_layers=50,drop_ratio=0.6,mode='ir_se')\n",
    "        #self.Arcnet.load_state_dict(torch.load('model_ir_se50.pth'))\n",
    "        self.fc = nn.Linear(512, 10)\n",
    "\n",
    "    def forward(self, x):\n",
    "        x = self.Arcnet(x)\n",
    "        out = self.fc(x)\n",
    "        return out\n",
    "model = ArcfaceNet(classes=10)\n",
    "state_dict = torch.load(model_path)\n",
    "model.load_state_dict(state_dict)\n",
    "model.eval()\n",
    "# ---------------------------------------------------------------------------\n",
    "\n",
    "def predict(img):\n",
    "    \"\"\"\n",
    "    加载模型和模型预测\n",
    "    主要步骤:\n",
    "        1.图片处理\n",
    "        2.用加载的模型预测图片的类别\n",
    "    :param img: 经 cv2.imread(file_path) 读取后的图片\n",
    "    :return: string, 模型识别图片的类别, \n",
    "            共 'CL', 'FBB', 'HG', 'HJ', 'LHR', 'LSS', 'LYF', 'PYY', 'TY', 'YM' 10 个类别\n",
    "    \"\"\"\n",
    "    # -------------------------- 实现模型预测部分的代码 ---------------------------\n",
    "    labels = {0:'CL',1:'FBB',2:'HG',3:'HJ',4:'LHR',5:'LSS',6:'LYF',7:'PYY',8:'TY',9:'YM'}\n",
    "    test_trans = T.Compose([\n",
    "            T.Resize((112, 112)),\n",
    "            T.ToTensor(),  # 转化为张量\n",
    "            T.Normalize([0], [1]),  # 归一化\n",
    "        ])\n",
    "    img=Image.fromarray(cv2.cvtColor(img, cv2.COLOR_BGR2RGB))\n",
    "    img = test_trans(img)\n",
    "    img = img.view(1,img.shape[0],img.shape[1],img.shape[2])\n",
    "    model.eval()\n",
    "    with torch.no_grad():\n",
    "        result = model(img)\n",
    "        result = labels[np.argmax(result.numpy())]\n",
    "    # 获取输入图片的类别\n",
    "    y_predict = result\n",
    "\n",
    "    # -------------------------------------------------------------------------\n",
    "    \n",
    "    # 返回图片的类别\n",
    "    return y_predict"
   ]
  },
  {
   "cell_type": "code",
   "execution_count": 2,
   "metadata": {},
   "outputs": [
    {
     "data": {
      "text/plain": [
       "'FBB'"
      ]
     },
     "execution_count": 2,
     "metadata": {},
     "output_type": "execute_result"
    }
   ],
   "source": [
    "predict(cv2.imread('gbb.jpg'))"
   ]
  },
  {
   "cell_type": "code",
   "execution_count": null,
   "metadata": {},
   "outputs": [],
   "source": [
    "state_dict = torch.load('new.pth', map_location=\"cpu\")\n",
    "torch.save(state_dict, 'old3.pth', _use_new_zipfile_serialization=False)"
   ]
  }
 ],
 "metadata": {
  "kernelspec": {
   "display_name": "Python 3.9.12 ('base')",
   "language": "python",
   "name": "python3"
  },
  "language_info": {
   "codemirror_mode": {
    "name": "ipython",
    "version": 3
   },
   "file_extension": ".py",
   "mimetype": "text/x-python",
   "name": "python",
   "nbconvert_exporter": "python",
   "pygments_lexer": "ipython3",
   "version": "3.9.12"
  },
  "orig_nbformat": 4,
  "vscode": {
   "interpreter": {
    "hash": "837d281b97c32b6fba8a22a51e8bf9f92d63e55ecdb04e291285888e30439b4e"
   }
  }
 },
 "nbformat": 4,
 "nbformat_minor": 2
}
